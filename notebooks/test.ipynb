{
 "cells": [
  {
   "cell_type": "code",
   "execution_count": 1,
   "metadata": {},
   "outputs": [
    {
     "data": {
      "text/plain": [
       "True"
      ]
     },
     "execution_count": 1,
     "metadata": {},
     "output_type": "execute_result"
    }
   ],
   "source": [
    "# Cell 1: Imports and Setup\n",
    "import sys\n",
    "from pathlib import Path\n",
    "sys.path.append(str(Path.cwd().parent))\n",
    "\n",
    "# Import required libraries\n",
    "import numpy as np\n",
    "import pandas as pd\n",
    "import matplotlib.pyplot as plt\n",
    "import seaborn as sns\n",
    "import warnings\n",
    "warnings.filterwarnings('ignore')\n",
    "\n",
    "# Set plotting style\n",
    "plt.style.use('default')\n",
    "sns.set_theme()\n",
    "\n",
    "# Import our modules\n",
    "from dotenv import load_dotenv\n",
    "load_dotenv()"
   ]
  },
  {
   "cell_type": "code",
   "execution_count": 2,
   "metadata": {},
   "outputs": [],
   "source": [
    "# Cell 2: Import Custom Modules\n",
    "from src.data import DataLoader, PortfolioConfig\n",
    "from src.risk import RiskManager, RiskConfig\n",
    "from src.monte_carlo import MonteCarlo, SimConfig\n",
    "from src.regime import MarketRegimeDetector, RegimeConfig"
   ]
  },
  {
   "cell_type": "code",
   "execution_count": 3,
   "metadata": {},
   "outputs": [
    {
     "name": "stderr",
     "output_type": "stream",
     "text": [
      "2024-12-01 18:40:31,524 - src.data - INFO - Connecting to Alpaca API (Paper Trading: True)\n",
      "2024-12-01 18:40:31,525 - src.data - INFO - Loading market data...\n",
      "2024-12-01 18:40:32,912 - src.data - INFO - Successfully loaded data for 4 tickers\n"
     ]
    },
    {
     "name": "stdout",
     "output_type": "stream",
     "text": [
      "Data loaded successfully:\n",
      "Shape of returns: (1759, 4)\n",
      "Date range: 2017-01-04 05:00:00+00:00 to 2023-12-29 05:00:00+00:00\n"
     ]
    }
   ],
   "source": [
    "# Cell 3: Configure and Load Data\n",
    "# Configure Portfolio\n",
    "portfolio_config = PortfolioConfig(\n",
    "    tickers=['NVDA', 'AMD', 'INTC','ASML'],  # Semiconductor stocks\n",
    "    start_date='2017-01-01',\n",
    "    end_date='2024-01-01',\n",
    "    weights=[0.4, 0.3, 0.15,0.15]\n",
    ")\n",
    "\n",
    "# Load Data\n",
    "data_loader = DataLoader(portfolio_config)\n",
    "market_data = data_loader.load_data()\n",
    "\n",
    "# Quick data check\n",
    "print(\"Data loaded successfully:\")\n",
    "print(f\"Shape of returns: {market_data['returns'].shape}\")\n",
    "print(f\"Date range: {market_data['returns'].index[0]} to {market_data['returns'].index[-1]}\")"
   ]
  },
  {
   "cell_type": "code",
   "execution_count": 4,
   "metadata": {},
   "outputs": [
    {
     "name": "stdout",
     "output_type": "stream",
     "text": [
      "\n",
      "Key Risk Metrics:\n",
      "Portfolio Volatility: 37.91%\n",
      "VaR (95%): -3.81%\n",
      "Expected Shortfall: -5.44%\n",
      "Sharpe Ratio: 0.81\n"
     ]
    }
   ],
   "source": [
    "# Cell 4: Risk Analysis\n",
    "# Configure Risk Analysis\n",
    "risk_config = RiskConfig(\n",
    "    confidence_level=0.95,\n",
    "    max_drawdown_limit=0.20,\n",
    "    volatility_target=0.15,\n",
    "    var_calculation_method=\"historical\"\n",
    ")\n",
    "\n",
    "# Initialize Risk Manager and Calculate Metrics\n",
    "risk_manager = RiskManager(risk_config)\n",
    "# Calculate portfolio returns\n",
    "portfolio_returns = market_data['returns'].mean(axis=1)\n",
    "risk_metrics = risk_manager.calculate_metrics(portfolio_returns)\n",
    "\n",
    "# Print key metrics\n",
    "print(\"\\nKey Risk Metrics:\")\n",
    "print(f\"Portfolio Volatility: {risk_metrics['portfolio_volatility']:.2%}\")\n",
    "print(f\"VaR (95%): {risk_metrics['var_95']:.2%}\")\n",
    "print(f\"Expected Shortfall: {risk_metrics['expected_shortfall_95']:.2%}\")\n",
    "print(f\"Sharpe Ratio: {risk_metrics['sharpe_ratio']:.2f}\")"
   ]
  },
  {
   "cell_type": "code",
   "execution_count": 5,
   "metadata": {},
   "outputs": [
    {
     "name": "stdout",
     "output_type": "stream",
     "text": [
      "\n",
      "Running Monte Carlo simulation...\n",
      "Monte Carlo Simulation completed\n",
      "Number of simulations: 100000\n",
      "Forecast horizon: 252 days\n"
     ]
    }
   ],
   "source": [
    "# Cell 5: Monte Carlo Simulation\n",
    "# Configure and Run Monte Carlo\n",
    "sim_config = SimConfig(\n",
    "    n_sims=100000,\n",
    "    n_days=252,\n",
    "    distribution='t'  # Using Student's t for fat tails\n",
    ")\n",
    "\n",
    "monte_carlo = MonteCarlo(sim_config)\n",
    "mc_results = monte_carlo.simulate(market_data)\n",
    "\n",
    "print(\"Monte Carlo Simulation completed\")\n",
    "print(f\"Number of simulations: {sim_config.n_sims}\")\n",
    "print(f\"Forecast horizon: {sim_config.n_days} days\")"
   ]
  },
  {
   "cell_type": "code",
   "execution_count": 6,
   "metadata": {},
   "outputs": [
    {
     "name": "stdout",
     "output_type": "stream",
     "text": [
      "Regime Distribution:\n",
      "Low Vol       0.566231\n",
      "Medium Vol    0.318931\n",
      "High Vol      0.114838\n",
      "dtype: float64\n"
     ]
    }
   ],
   "source": [
    "# Cell 6: Regime Detection\n",
    "# Configure and Run Regime Detection\n",
    "regime_config = RegimeConfig(\n",
    "    n_regimes=3,\n",
    "    window_size=21\n",
    ")\n",
    "\n",
    "regime_detector = MarketRegimeDetector(regime_config)\n",
    "regimes = regime_detector.fit_predict(market_data['returns'].mean(axis=1))\n",
    "\n",
    "# Print regime statistics\n",
    "print(\"Regime Distribution:\")\n",
    "print(regimes.value_counts(normalize=True))"
   ]
  },
  {
   "cell_type": "code",
   "execution_count": null,
   "metadata": {},
   "outputs": [],
   "source": []
  }
 ],
 "metadata": {
  "kernelspec": {
   "display_name": "Python 3",
   "language": "python",
   "name": "python3"
  },
  "language_info": {
   "codemirror_mode": {
    "name": "ipython",
    "version": 3
   },
   "file_extension": ".py",
   "mimetype": "text/x-python",
   "name": "python",
   "nbconvert_exporter": "python",
   "pygments_lexer": "ipython3",
   "version": "3.10.15"
  }
 },
 "nbformat": 4,
 "nbformat_minor": 2
}
